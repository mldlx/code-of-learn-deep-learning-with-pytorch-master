{
 "cells": [
  {
   "cell_type": "markdown",
   "metadata": {},
   "source": [
    "# How to use the model\n",
    "\n",
    "To understand the model it would be convenient if you have gone through demo1 and 2, however you can learn how to use the model simply reading this notebook. \n",
    "\n",
    "I will use 3 examples to illustrate the different set-ups that can be used with this pytorch implementation of wide and deep."
   ]
  },
  {
   "cell_type": "markdown",
   "metadata": {},
   "source": [
    "### 0. Load the data\n",
    "\n",
    "Note that, as long as your dataset is in a state similar to that of `adult_data.csv` below (remove NaN, impute missing values, etc..), you are \"good to go\"."
   ]
  },
  {
   "cell_type": "code",
   "execution_count": 8,
   "metadata": {
    "collapsed": false
   },
   "outputs": [
    {
     "data": {
      "text/html": [
       "<div>\n",
       "<style>\n",
       "    .dataframe thead tr:only-child th {\n",
       "        text-align: right;\n",
       "    }\n",
       "\n",
       "    .dataframe thead th {\n",
       "        text-align: left;\n",
       "    }\n",
       "\n",
       "    .dataframe tbody tr th {\n",
       "        vertical-align: top;\n",
       "    }\n",
       "</style>\n",
       "<table border=\"1\" class=\"dataframe\">\n",
       "  <thead>\n",
       "    <tr style=\"text-align: right;\">\n",
       "      <th></th>\n",
       "      <th>age</th>\n",
       "      <th>workclass</th>\n",
       "      <th>fnlwgt</th>\n",
       "      <th>education</th>\n",
       "      <th>education_num</th>\n",
       "      <th>marital_status</th>\n",
       "      <th>occupation</th>\n",
       "      <th>relationship</th>\n",
       "      <th>race</th>\n",
       "      <th>gender</th>\n",
       "      <th>capital_gain</th>\n",
       "      <th>capital_loss</th>\n",
       "      <th>hours_per_week</th>\n",
       "      <th>native_country</th>\n",
       "      <th>income_bracket</th>\n",
       "      <th>income_label</th>\n",
       "    </tr>\n",
       "  </thead>\n",
       "  <tbody>\n",
       "    <tr>\n",
       "      <th>0</th>\n",
       "      <td>39</td>\n",
       "      <td>State-gov</td>\n",
       "      <td>77516</td>\n",
       "      <td>Bachelors</td>\n",
       "      <td>13</td>\n",
       "      <td>Never-married</td>\n",
       "      <td>Adm-clerical</td>\n",
       "      <td>Not-in-family</td>\n",
       "      <td>White</td>\n",
       "      <td>Male</td>\n",
       "      <td>2174</td>\n",
       "      <td>0</td>\n",
       "      <td>40</td>\n",
       "      <td>United-States</td>\n",
       "      <td>&lt;=50K</td>\n",
       "      <td>0</td>\n",
       "    </tr>\n",
       "    <tr>\n",
       "      <th>1</th>\n",
       "      <td>50</td>\n",
       "      <td>Self-emp-not-inc</td>\n",
       "      <td>83311</td>\n",
       "      <td>Bachelors</td>\n",
       "      <td>13</td>\n",
       "      <td>Married-civ-spouse</td>\n",
       "      <td>Exec-managerial</td>\n",
       "      <td>Husband</td>\n",
       "      <td>White</td>\n",
       "      <td>Male</td>\n",
       "      <td>0</td>\n",
       "      <td>0</td>\n",
       "      <td>13</td>\n",
       "      <td>United-States</td>\n",
       "      <td>&lt;=50K</td>\n",
       "      <td>0</td>\n",
       "    </tr>\n",
       "    <tr>\n",
       "      <th>2</th>\n",
       "      <td>38</td>\n",
       "      <td>Private</td>\n",
       "      <td>215646</td>\n",
       "      <td>HS-grad</td>\n",
       "      <td>9</td>\n",
       "      <td>Divorced</td>\n",
       "      <td>Handlers-cleaners</td>\n",
       "      <td>Not-in-family</td>\n",
       "      <td>White</td>\n",
       "      <td>Male</td>\n",
       "      <td>0</td>\n",
       "      <td>0</td>\n",
       "      <td>40</td>\n",
       "      <td>United-States</td>\n",
       "      <td>&lt;=50K</td>\n",
       "      <td>0</td>\n",
       "    </tr>\n",
       "    <tr>\n",
       "      <th>3</th>\n",
       "      <td>53</td>\n",
       "      <td>Private</td>\n",
       "      <td>234721</td>\n",
       "      <td>11th</td>\n",
       "      <td>7</td>\n",
       "      <td>Married-civ-spouse</td>\n",
       "      <td>Handlers-cleaners</td>\n",
       "      <td>Husband</td>\n",
       "      <td>Black</td>\n",
       "      <td>Male</td>\n",
       "      <td>0</td>\n",
       "      <td>0</td>\n",
       "      <td>40</td>\n",
       "      <td>United-States</td>\n",
       "      <td>&lt;=50K</td>\n",
       "      <td>0</td>\n",
       "    </tr>\n",
       "    <tr>\n",
       "      <th>4</th>\n",
       "      <td>28</td>\n",
       "      <td>Private</td>\n",
       "      <td>338409</td>\n",
       "      <td>Bachelors</td>\n",
       "      <td>13</td>\n",
       "      <td>Married-civ-spouse</td>\n",
       "      <td>Prof-specialty</td>\n",
       "      <td>Wife</td>\n",
       "      <td>Black</td>\n",
       "      <td>Female</td>\n",
       "      <td>0</td>\n",
       "      <td>0</td>\n",
       "      <td>40</td>\n",
       "      <td>Cuba</td>\n",
       "      <td>&lt;=50K</td>\n",
       "      <td>0</td>\n",
       "    </tr>\n",
       "  </tbody>\n",
       "</table>\n",
       "</div>"
      ],
      "text/plain": [
       "   age         workclass  fnlwgt  education  education_num  \\\n",
       "0   39         State-gov   77516  Bachelors             13   \n",
       "1   50  Self-emp-not-inc   83311  Bachelors             13   \n",
       "2   38           Private  215646    HS-grad              9   \n",
       "3   53           Private  234721       11th              7   \n",
       "4   28           Private  338409  Bachelors             13   \n",
       "\n",
       "       marital_status         occupation   relationship   race  gender  \\\n",
       "0       Never-married       Adm-clerical  Not-in-family  White    Male   \n",
       "1  Married-civ-spouse    Exec-managerial        Husband  White    Male   \n",
       "2            Divorced  Handlers-cleaners  Not-in-family  White    Male   \n",
       "3  Married-civ-spouse  Handlers-cleaners        Husband  Black    Male   \n",
       "4  Married-civ-spouse     Prof-specialty           Wife  Black  Female   \n",
       "\n",
       "   capital_gain  capital_loss  hours_per_week native_country income_bracket  \\\n",
       "0          2174             0              40  United-States          <=50K   \n",
       "1             0             0              13  United-States          <=50K   \n",
       "2             0             0              40  United-States          <=50K   \n",
       "3             0             0              40  United-States          <=50K   \n",
       "4             0             0              40           Cuba          <=50K   \n",
       "\n",
       "   income_label  \n",
       "0             0  \n",
       "1             0  \n",
       "2             0  \n",
       "3             0  \n",
       "4             0  "
      ]
     },
     "execution_count": 8,
     "metadata": {},
     "output_type": "execute_result"
    }
   ],
   "source": [
    "from __future__ import print_function\n",
    "import pandas as pd\n",
    "import numpy as np\n",
    "\n",
    "DF = pd.read_csv('data/adult_data.csv')\n",
    "\n",
    "DF.head()"
   ]
  },
  {
   "cell_type": "markdown",
   "metadata": {},
   "source": [
    "## 1. Logistic regression with varying embedding dimensions, no dropout and Adam optimizer."
   ]
  },
  {
   "cell_type": "markdown",
   "metadata": {},
   "source": [
    "#### 1_1. Set the experiment"
   ]
  },
  {
   "cell_type": "code",
   "execution_count": 9,
   "metadata": {
    "collapsed": true
   },
   "outputs": [],
   "source": [
    "# Let's define a target for logistic regression:\n",
    "DF['income_label'] = (DF[\"income_bracket\"].apply(lambda x: \">50K\" in x)).astype(int)\n",
    "\n",
    "# Experiment set up\n",
    "wide_cols = ['age','hours_per_week','education', 'relationship','workclass',\n",
    "             'occupation','native_country','gender']\n",
    "crossed_cols = (['education', 'occupation'], ['native_country', 'occupation'])\n",
    "embeddings_cols = [('education',10), ('relationship',8), ('workclass',10),\n",
    "                    ('occupation',10),('native_country',10)]\n",
    "continuous_cols = [\"age\",\"hours_per_week\"]\n",
    "target = 'income_label'\n",
    "method = 'logistic'"
   ]
  },
  {
   "cell_type": "markdown",
   "metadata": {},
   "source": [
    "#### 1_2. prepare the data"
   ]
  },
  {
   "cell_type": "code",
   "execution_count": 10,
   "metadata": {
    "collapsed": false
   },
   "outputs": [],
   "source": [
    "from wide_deep.data_utils import prepare_data\n",
    "\n",
    "# just call prepare_data\n",
    "wd_dataset = prepare_data(DF, wide_cols,crossed_cols,embeddings_cols,continuous_cols,target,scale=True)"
   ]
  },
  {
   "cell_type": "markdown",
   "metadata": {},
   "source": [
    "#### 1_3. Build the model"
   ]
  },
  {
   "cell_type": "code",
   "execution_count": 11,
   "metadata": {
    "collapsed": false
   },
   "outputs": [],
   "source": [
    "# Network set up\n",
    "wide_dim = wd_dataset['train_dataset'].wide.shape[1]\n",
    "n_class=1 # for logistic and regression\n",
    "deep_column_idx = wd_dataset['deep_column_idx']\n",
    "embeddings_input= wd_dataset['embeddings_input']\n",
    "encoding_dict   = wd_dataset['encoding_dict']\n",
    "hidden_layers = [100,50]\n",
    "dropout = None\n",
    "\n",
    "# Build the model. Again you just need to call WideDeep\n",
    "from wide_deep.torch_model import WideDeep\n",
    "model = WideDeep(wide_dim,embeddings_input,continuous_cols,deep_column_idx,hidden_layers, dropout, encoding_dict,n_class)\n",
    "\n",
    "# I have included a compile method if you want to change the fitting method or the optimizer\n",
    "model.compile(method=method, optimizer=\"Adam\")"
   ]
  },
  {
   "cell_type": "markdown",
   "metadata": {},
   "source": [
    "let's have a look:"
   ]
  },
  {
   "cell_type": "code",
   "execution_count": 12,
   "metadata": {
    "collapsed": false
   },
   "outputs": [
    {
     "name": "stdout",
     "output_type": "stream",
     "text": [
      "WideDeep (\n",
      "  (emb_layer_workclass): Embedding(9, 10)\n",
      "  (emb_layer_education): Embedding(16, 10)\n",
      "  (emb_layer_native_country): Embedding(42, 10)\n",
      "  (emb_layer_relationship): Embedding(6, 8)\n",
      "  (emb_layer_occupation): Embedding(15, 10)\n",
      "  (linear_1): Linear (50 -> 100)\n",
      "  (linear_2): Linear (100 -> 50)\n",
      "  (output): Linear (848 -> 1)\n",
      ")\n"
     ]
    }
   ],
   "source": [
    "print(model)"
   ]
  },
  {
   "cell_type": "markdown",
   "metadata": {},
   "source": [
    "#### 1_4. Fit and Predict"
   ]
  },
  {
   "cell_type": "code",
   "execution_count": 13,
   "metadata": {
    "collapsed": false
   },
   "outputs": [
    {
     "name": "stderr",
     "output_type": "stream",
     "text": [
      "/usr/local/lib/python2.7/site-packages/torch/nn/functional.py:767: UserWarning: Using a target size (torch.Size([64])) that is different to the input size (torch.Size([64, 1])) is deprecated. Please ensure they have the same size.\n",
      "  \"Please ensure they have the same size.\".format(target.size(), input.size()))\n",
      "/usr/local/lib/python2.7/site-packages/torch/nn/functional.py:767: UserWarning: Using a target size (torch.Size([13])) that is different to the input size (torch.Size([13, 1])) is deprecated. Please ensure they have the same size.\n",
      "  \"Please ensure they have the same size.\".format(target.size(), input.size()))\n"
     ]
    },
    {
     "name": "stdout",
     "output_type": "stream",
     "text": [
      "Epoch 1 of 10, Loss: 0.215, accuracy: 0.8175\n",
      "Epoch 2 of 10, Loss: 0.356, accuracy: 0.8396\n",
      "Epoch 3 of 10, Loss: 0.229, accuracy: 0.842\n",
      "Epoch 4 of 10, Loss: 0.531, accuracy: 0.8425\n",
      "Epoch 5 of 10, Loss: 0.197, accuracy: 0.8438\n",
      "Epoch 6 of 10, Loss: 0.134, accuracy: 0.844\n",
      "Epoch 7 of 10, Loss: 0.454, accuracy: 0.8463\n",
      "Epoch 8 of 10, Loss: 0.156, accuracy: 0.8464\n",
      "Epoch 9 of 10, Loss: 0.217, accuracy: 0.8452\n",
      "Epoch 10 of 10, Loss: 0.445, accuracy: 0.8472\n",
      "0.838258377124\n"
     ]
    }
   ],
   "source": [
    "train_dataset = wd_dataset['train_dataset']\n",
    "test_dataset  = wd_dataset['test_dataset']\n",
    "\n",
    "# As your usual Sklearn model, simply call fit/predict\n",
    "model.fit(dataset=train_dataset, n_epochs=10, batch_size=64)\n",
    "pred = model.predict(dataset=test_dataset)\n",
    "\n",
    "from sklearn.metrics import accuracy_score\n",
    "print(accuracy_score(pred, test_dataset.labels))"
   ]
  },
  {
   "cell_type": "markdown",
   "metadata": {},
   "source": [
    "I have included a method to easily get the learned embeddings. This will return a dictionary where the keys are the column values and the values are the embeddings."
   ]
  },
  {
   "cell_type": "code",
   "execution_count": 14,
   "metadata": {
    "collapsed": false
   },
   "outputs": [
    {
     "data": {
      "text/plain": [
       "{'10th': array([-0.18979575,  1.4436841 , -0.50139612, -0.85227281,  1.36461151,\n",
       "         0.3559041 , -0.58077377,  0.57836998,  0.09822965,  0.45356399], dtype=float32),\n",
       " '11th': array([ 0.45051831, -1.17895794, -0.70969492, -0.41443011, -0.54592711,\n",
       "         2.06732845,  0.97312623, -1.66578746,  0.15288909, -0.13219695], dtype=float32),\n",
       " '12th': array([-0.55539042,  1.34430635, -0.14818592, -1.01501787, -1.85061646,\n",
       "        -1.42545903,  0.30155715,  1.02573991, -0.42215505,  1.02378154], dtype=float32),\n",
       " '1st-4th': array([ 1.84887922,  1.20987594,  0.2984882 , -1.79686284,  0.59199595,\n",
       "        -0.09441201, -0.26749009,  0.20149775, -0.73544145, -0.51700133], dtype=float32),\n",
       " '5th-6th': array([-0.05392418,  0.36236417,  0.47461176,  0.41363204, -0.2278301 ,\n",
       "        -0.5376063 ,  2.63320708,  2.04696202, -0.49895033, -0.29155737], dtype=float32),\n",
       " '7th-8th': array([ 0.12547047,  0.05075515, -1.44649279, -1.56195939, -1.32460868,\n",
       "        -0.34222227,  0.88958579,  0.47252822, -0.09495597, -0.02843619], dtype=float32),\n",
       " '9th': array([-0.14014393,  1.28053474,  0.35706842, -1.89409554, -0.80370718,\n",
       "        -0.53732723,  0.39302668,  0.40100414,  0.96709979, -0.54595846], dtype=float32),\n",
       " 'Assoc-acdm': array([ 2.23356485,  1.00816226, -2.27655983,  0.9915536 , -0.55686516,\n",
       "         1.46899855, -1.43701446, -0.46746022, -0.05142261,  0.58451122], dtype=float32),\n",
       " 'Assoc-voc': array([ 1.11377907,  0.41131377, -1.40442908,  0.05879473, -0.13471135,\n",
       "        -0.37147653, -0.39430454, -0.38298509,  0.09182382, -0.18972228], dtype=float32),\n",
       " 'Bachelors': array([-2.05170012, -1.35262275,  1.57654059,  0.70553464,  0.80315828,\n",
       "        -2.61309099,  0.46207047,  0.25938991,  1.27118778, -2.02918983], dtype=float32),\n",
       " 'Doctorate': array([-1.51427305, -0.57435513,  0.27152076,  3.68988252, -0.92434132,\n",
       "         0.86953694, -0.62879491, -0.6649121 ,  0.37984002,  0.42188498], dtype=float32),\n",
       " 'HS-grad': array([ 0.5675661 , -0.16484176, -0.25774002,  0.12548433,  0.43557805,\n",
       "         0.30828851, -0.78993368,  0.84360808,  0.93881094,  0.51104885], dtype=float32),\n",
       " 'Masters': array([-0.83188468, -1.20755589,  1.29778767, -0.21757448, -0.9422332 ,\n",
       "         0.28221262, -0.00386627, -0.95983386, -1.81947958, -0.21439691], dtype=float32),\n",
       " 'Preschool': array([ 0.88657302,  0.83354014,  0.39644518, -1.62499583,  0.67740631,\n",
       "         0.49476627,  2.9205153 ,  1.38263381,  0.0637609 , -0.62043005], dtype=float32),\n",
       " 'Prof-school': array([ 0.59643167, -2.98818922,  0.60524243,  0.73828989,  0.18138508,\n",
       "        -0.22839846, -1.02733207, -1.25480282,  1.0317198 ,  0.27936444], dtype=float32),\n",
       " 'Some-college': array([ 0.37755287,  0.64273852,  1.17291927, -0.04218093,  0.87608969,\n",
       "         1.29980707, -0.35390925, -1.08699441,  0.38861114, -0.59682709], dtype=float32)}"
      ]
     },
     "execution_count": 14,
     "metadata": {},
     "output_type": "execute_result"
    }
   ],
   "source": [
    "model.get_embeddings('education')"
   ]
  },
  {
   "cell_type": "markdown",
   "metadata": {},
   "source": [
    "## 2. Multiclass classification with fixed embedding dimensions (10), varying dropout and RMSProp. "
   ]
  },
  {
   "cell_type": "markdown",
   "metadata": {},
   "source": [
    "Let's first define a feature for multiclass classification. Note that **this is only for illustration purposes**. "
   ]
  },
  {
   "cell_type": "code",
   "execution_count": 15,
   "metadata": {
    "collapsed": false
   },
   "outputs": [
    {
     "name": "stdout",
     "output_type": "stream",
     "text": [
      "WideDeep (\n",
      "  (emb_layer_workclass): Embedding(9, 10)\n",
      "  (emb_layer_education): Embedding(16, 10)\n",
      "  (emb_layer_native_country): Embedding(42, 10)\n",
      "  (emb_layer_relationship): Embedding(6, 10)\n",
      "  (emb_layer_occupation): Embedding(15, 10)\n",
      "  (linear_1): Linear (51 -> 100)\n",
      "  (linear_1_drop): Dropout (p = 0.5)\n",
      "  (linear_2): Linear (100 -> 50)\n",
      "  (linear_2_drop): Dropout (p = 0.2)\n",
      "  (output): Linear (847 -> 3)\n",
      ")\n"
     ]
    }
   ],
   "source": [
    "# Let's define age groups\n",
    "age_groups = [0, 25, 50, 90]\n",
    "age_labels = range(len(age_groups) - 1)\n",
    "DF['age_group'] = pd.cut(DF['age'], age_groups, labels=age_labels)\n",
    "\n",
    "# Set the experiment\n",
    "wide_cols = ['hours_per_week','education', 'relationship','workclass',\n",
    "             'occupation','native_country','gender']\n",
    "crossed_cols = (['education', 'occupation'], ['native_country', 'occupation'])\n",
    "embeddings_cols = ['education', 'relationship','workclass','occupation','native_country']\n",
    "continuous_cols = [\"hours_per_week\"]\n",
    "target = 'age_group'\n",
    "method = 'multiclass'\n",
    "\n",
    "wd_dataset = prepare_data(DF,wide_cols,crossed_cols,embeddings_cols,continuous_cols,target,scale=True,def_dim=10)\n",
    "\n",
    "wide_dim = wd_dataset['train_dataset'].wide.shape[1]\n",
    "n_class=3\n",
    "deep_column_idx = wd_dataset['deep_column_idx']\n",
    "embeddings_input= wd_dataset['embeddings_input']\n",
    "encoding_dict   = wd_dataset['encoding_dict']\n",
    "hidden_layers = [100,50]\n",
    "dropout = [0.5, 0.2]\n",
    "\n",
    "model = WideDeep(wide_dim,embeddings_input,continuous_cols,deep_column_idx,hidden_layers,dropout,encoding_dict,n_class)\n",
    "model.compile(method=method, optimizer=\"RMSprop\")\n",
    "\n",
    "# Let's have a look to the model\n",
    "print(model)"
   ]
  },
  {
   "cell_type": "code",
   "execution_count": 16,
   "metadata": {
    "collapsed": false
   },
   "outputs": [
    {
     "name": "stdout",
     "output_type": "stream",
     "text": [
      "Epoch 1 of 10, Loss: 0.699, accuracy: 0.6737\n",
      "Epoch 2 of 10, Loss: 0.822, accuracy: 0.6855\n",
      "Epoch 3 of 10, Loss: 0.717, accuracy: 0.6879\n",
      "Epoch 4 of 10, Loss: 1.016, accuracy: 0.6931\n",
      "Epoch 5 of 10, Loss: 0.842, accuracy: 0.6944\n",
      "Epoch 6 of 10, Loss: 0.805, accuracy: 0.6942\n",
      "Epoch 7 of 10, Loss: 0.783, accuracy: 0.6966\n",
      "Epoch 8 of 10, Loss: 0.859, accuracy: 0.6975\n",
      "Epoch 9 of 10, Loss: 0.929, accuracy: 0.6992\n",
      "Epoch 10 of 10, Loss: 0.826, accuracy: 0.7006\n",
      "\n",
      " [[  9.99074221e-01   9.25758795e-04   3.93159311e-10]\n",
      " [  2.88534306e-13   1.00000000e+00   1.56172240e-15]\n",
      " [  1.73595769e-08   1.00000000e+00   4.79524920e-10]\n",
      " ..., \n",
      " [  8.90251540e-04   9.71086264e-01   2.80234683e-02]\n",
      " [  2.58150152e-07   9.99999106e-01   6.09748270e-07]\n",
      " [  8.45011652e-01   1.54977426e-01   1.09334724e-05]]\n"
     ]
    }
   ],
   "source": [
    "train_dataset = wd_dataset['train_dataset']\n",
    "model.fit(dataset=train_dataset, n_epochs=10, batch_size=64)\n",
    "test_dataset  = wd_dataset['test_dataset']\n",
    "\n",
    "# The model object also has a predict_proba method in case you want probabilities instead of class\n",
    "pred = model.predict_proba(test_dataset)\n",
    "print('\\n {}'.format(pred))"
   ]
  },
  {
   "cell_type": "code",
   "execution_count": 17,
   "metadata": {
    "collapsed": false
   },
   "outputs": [
    {
     "name": "stdout",
     "output_type": "stream",
     "text": [
      "\n",
      " 0.733689593553\n",
      "\n",
      " 0.700402647922\n"
     ]
    }
   ],
   "source": [
    "from sklearn.metrics import f1_score, accuracy_score\n",
    "\n",
    "print(\"\\n {}\".format(f1_score(model.predict(test_dataset), test_dataset.labels, average=\"weighted\")))\n",
    "\n",
    "print(\"\\n {}\".format(accuracy_score(model.predict(test_dataset), test_dataset.labels)))"
   ]
  },
  {
   "cell_type": "markdown",
   "metadata": {},
   "source": [
    "## 3. Linear regression with varying embedding dimensions and varying dropout.\n",
    "\n",
    "Again, bear in mind that here we use `age` as target just **for illustration purposes**"
   ]
  },
  {
   "cell_type": "code",
   "execution_count": 18,
   "metadata": {
    "collapsed": false
   },
   "outputs": [
    {
     "name": "stdout",
     "output_type": "stream",
     "text": [
      "WideDeep (\n",
      "  (emb_layer_workclass): Embedding(9, 10)\n",
      "  (emb_layer_education): Embedding(16, 10)\n",
      "  (emb_layer_native_country): Embedding(42, 10)\n",
      "  (emb_layer_relationship): Embedding(6, 8)\n",
      "  (emb_layer_occupation): Embedding(15, 10)\n",
      "  (linear_1): Linear (49 -> 100)\n",
      "  (linear_1_drop): Dropout (p = 0.5)\n",
      "  (linear_2): Linear (100 -> 50)\n",
      "  (linear_2_drop): Dropout (p = 0.2)\n",
      "  (output): Linear (847 -> 1)\n",
      ")\n"
     ]
    }
   ],
   "source": [
    "# Set the experiment\n",
    "wide_cols = ['hours_per_week','education', 'relationship','workclass',\n",
    "             'occupation','native_country','gender']\n",
    "crossed_cols  = (['education', 'occupation'], ['native_country', 'occupation'])\n",
    "embeddings_cols  = [('education',10), ('relationship',8), ('workclass',10),\n",
    "                    ('occupation',10),('native_country',10)]\n",
    "continuous_cols = [\"hours_per_week\"]\n",
    "target = 'age'\n",
    "method = 'regression'\n",
    "\n",
    "# Prepare the dataset\n",
    "wd_dataset = prepare_data(DF, wide_cols,crossed_cols,embeddings_cols,continuous_cols,target)\n",
    "\n",
    "wide_dim = wd_dataset['train_dataset'].wide.shape[1]\n",
    "n_class=1\n",
    "deep_column_idx = wd_dataset['deep_column_idx']\n",
    "embeddings_input= wd_dataset['embeddings_input']\n",
    "encoding_dict   = wd_dataset['encoding_dict']\n",
    "hidden_layers = [100,50]\n",
    "dropout = [0.5, 0.2]\n",
    "model = WideDeep(wide_dim,embeddings_input,continuous_cols,deep_column_idx,hidden_layers,dropout,encoding_dict,n_class)\n",
    "model.compile(method=method)\n",
    "print(model)"
   ]
  },
  {
   "cell_type": "code",
   "execution_count": 19,
   "metadata": {
    "collapsed": false
   },
   "outputs": [
    {
     "name": "stdout",
     "output_type": "stream",
     "text": [
      "Epoch 1 of 10, Loss: 151.295\n",
      "Epoch 2 of 10, Loss: 108.425\n",
      "Epoch 3 of 10, Loss: 82.35\n",
      "Epoch 4 of 10, Loss: 36.353\n",
      "Epoch 5 of 10, Loss: 50.06\n",
      "Epoch 6 of 10, Loss: 147.494\n",
      "Epoch 7 of 10, Loss: 176.602\n",
      "Epoch 8 of 10, Loss: 167.916\n",
      "Epoch 9 of 10, Loss: 40.365\n",
      "Epoch 10 of 10, Loss: 107.579\n",
      "\n",
      " RMSE: 11.2378476775\n"
     ]
    }
   ],
   "source": [
    "train_dataset = wd_dataset['train_dataset']\n",
    "model.fit(dataset=train_dataset, n_epochs=10, batch_size=64)\n",
    "\n",
    "test_dataset  = wd_dataset['test_dataset']\n",
    "pred = model.predict(test_dataset)\n",
    "\n",
    "from sklearn.metrics import mean_squared_error\n",
    "print(\"\\n RMSE: {}\".format(np.sqrt(mean_squared_error(pred, test_dataset.labels))))"
   ]
  }
 ],
 "metadata": {
  "kernelspec": {
   "display_name": "Python 2",
   "language": "python",
   "name": "python2"
  },
  "language_info": {
   "codemirror_mode": {
    "name": "ipython",
    "version": 2
   },
   "file_extension": ".py",
   "mimetype": "text/x-python",
   "name": "python",
   "nbconvert_exporter": "python",
   "pygments_lexer": "ipython2",
   "version": "2.7.13"
  }
 },
 "nbformat": 4,
 "nbformat_minor": 0
}
